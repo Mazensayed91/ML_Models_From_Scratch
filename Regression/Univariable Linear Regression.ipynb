{
 "cells": [
  {
   "cell_type": "code",
   "execution_count": 2,
   "metadata": {},
   "outputs": [],
   "source": [
    "import pandas as pd\n",
    "import numpy as np\n",
    "import matplotlib.pyplot as plt\n",
    "path = 'Desktop\\ex1data1.txt'\n"
   ]
  },
  {
   "cell_type": "code",
   "execution_count": 3,
   "metadata": {},
   "outputs": [],
   "source": [
    "def dealData(path):\n",
    "    data = pd.read_csv(path,header = None)\n",
    "    y = data.iloc[:,len(data.columns)-1] \n",
    "    X = pd.concat([data.iloc[:,0:len(data.columns)-1],pd.DataFrame(np.ones(len(y)))],axis=1)\n",
    "    X=X.iloc[:, ::-1]\n",
    "    X.columns = ['ones','Data']\n",
    "    thetas = np.ones(shape = (2,1))\n",
    "    thetas = [0.000000001,0.00000001]\n",
    "    return X,y,thetas"
   ]
  },
  {
   "cell_type": "code",
   "execution_count": 4,
   "metadata": {},
   "outputs": [],
   "source": [
    "def plotData(func):\n",
    "    X,y,t= func(path)\n",
    "    _=plt.scatter(X.iloc[:,1],y)\n",
    "    plt.show()"
   ]
  },
  {
   "cell_type": "code",
   "execution_count": 5,
   "metadata": {},
   "outputs": [],
   "source": [
    "def computeCost(func):\n",
    "    X,y,thetas = func(path)\n",
    "    hypo = X.dot(thetas)\n",
    "    y = (np.array(y).reshape(-1,1))\n",
    "    cost = [(v-y[i])**2 for i,v in enumerate(hypo)]\n",
    "    return sum(cost)/(2*len(y))"
   ]
  },
  {
   "cell_type": "code",
   "execution_count": 6,
   "metadata": {},
   "outputs": [],
   "source": [
    "def gradientDescent(func,iters,alpha=0.01):\n",
    "    X,y,thetas = func(path)\n",
    "    thetas = np.array(thetas)\n",
    "    hypo = X.dot(thetas)\n",
    "    for iteri in range(iters):\n",
    "        grad1 = alpha * sum([(v-y[i])*X.iloc[i,0] for i,v in enumerate(hypo)]) / len(y)\n",
    "        grad2 = alpha *sum([(v-y[i])*X.iloc[i,1] for i,v in enumerate(hypo)]) / len(y)\n",
    "        grad = np.array([grad1,grad2])\n",
    "        thetas= thetas - grad\n",
    "        hypo = X.dot(thetas)\n",
    "    return thetas"
   ]
  },
  {
   "cell_type": "code",
   "execution_count": 8,
   "metadata": {},
   "outputs": [
    {
     "data": {
      "image/png": "[encoded data removed]",
      "text/plain": [
       "<Figure size 432x288 with 1 Axes>"
      ]
     },
     "metadata": {
      "needs_background": "light"
     },
     "output_type": "display_data"
    }
   ],
   "source": [
    "X,y,thetas = dealData(path)\n",
    "x = np.arange(min(X.iloc[:,1]),max(X.iloc[:,1]))\n",
    "y = -3.63029144 + 1.16636235 * x\n",
    "_ = plt.plot(x,y)\n",
    "X,y,t= dealData(path)\n",
    "_=plt.scatter(X.iloc[:,1],y)\n",
    "plt.show()"
   ]
  },
  {
   "cell_type": "code",
   "execution_count": null,
   "metadata": {},
   "outputs": [],
   "source": []
  }
 ],
 "metadata": {
  "kernelspec": {
   "display_name": "Python 3",
   "language": "python",
   "name": "python3"
  },
  "language_info": {
   "codemirror_mode": {
    "name": "ipython",
    "version": 3
   },
   "file_extension": ".py",
   "mimetype": "text/x-python",
   "name": "python",
   "nbconvert_exporter": "python",
   "pygments_lexer": "ipython3",
   "version": "3.7.3"
  }
 },
 "nbformat": 4,
 "nbformat_minor": 2
}
