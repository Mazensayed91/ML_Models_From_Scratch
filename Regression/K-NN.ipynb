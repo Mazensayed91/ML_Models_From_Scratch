{
 "cells": [
  {
   "cell_type": "code",
   "execution_count": 1,
   "metadata": {},
   "outputs": [],
   "source": [
    "import pandas as pd\n",
    "import numpy as np\n",
    "import matplotlib.pyplot as plt"
   ]
  },
  {
   "cell_type": "code",
   "execution_count": 64,
   "metadata": {},
   "outputs": [],
   "source": [
    "def get_numpy_data(dataframe,features,output):\n",
    "    feature_matrix = dataframe.loc[:,features]\n",
    "    output = np.array(dataframe.loc[:,output])\n",
    "    return(np.array(feature_matrix),output)\n",
    "def normalize_features(features):\n",
    "    norms = np.linalg.norm(features, axis=0)\n",
    "    normalized_features = np.divide(features, norms)\n",
    "    return normalized_features, norms"
   ]
  },
  {
   "cell_type": "code",
   "execution_count": 65,
   "metadata": {},
   "outputs": [],
   "source": [
    "dtype_dict = {'bathrooms':float, 'waterfront':int, 'sqft_above':int, 'sqft_living15':float, 'grade':int, 'yr_renovated':int, 'price':float, 'bedrooms':float,  'long':float, 'sqft_lot15':float, 'sqft_living':float, 'floors':float, 'condition':int, 'lat':float, 'sqft_basement':int, 'yr_built':int, 'sqft_lot':int, 'view':int}\n",
    "dtype_list = [*dtype_dict.keys()]\n",
    "data = pd.read_csv('Desktop/kc_house_data_small.csv',dtype=dtype_dict)\n",
    "training = pd.read_csv('Desktop/kc_house_data_small_train.csv',dtype=dtype_dict)\n",
    "test = pd.read_csv('Desktop/kc_house_data_small_test.csv',dtype=dtype_dict)\n",
    "val = pd.read_csv('Desktop/kc_house_data_validation.csv',dtype=dtype_dict)\n",
    "features = dtype_list"
   ]
  },
  {
   "cell_type": "code",
   "execution_count": 356,
   "metadata": {},
   "outputs": [],
   "source": [
    "features_train,output_train= get_numpy_data(training,features,'price')\n",
    "features_test,output_test = get_numpy_data(test,features,'price')\n",
    "features_valid,output_valid = get_numpy_data(val,features,'price')\n",
    "features_train, norms = normalize_features(features_train)\n",
    "features_test = features_test / norms\n",
    "features_valid = features_valid / norms"
   ]
  },
  {
   "cell_type": "code",
   "execution_count": 67,
   "metadata": {},
   "outputs": [
    {
     "name": "stdout",
     "output_type": "stream",
     "text": [
      "18\n",
      "[ 0.00602491  0.          0.0096309   0.01195898  0.01390535  0.\n",
      "  0.01396435  0.01163464 -0.01346251  0.00156612  0.0083488   0.01279425\n",
      "  0.01938684  0.01346821  0.          0.01302544  0.00050756  0.        ]\n"
     ]
    }
   ],
   "source": [
    "print( len((features_test[0])))\n",
    "print(features_train[9])"
   ]
  },
  {
   "cell_type": "code",
   "execution_count": 77,
   "metadata": {},
   "outputs": [
    {
     "data": {
      "text/plain": [
       "0.059724654206600405"
      ]
     },
     "execution_count": 77,
     "metadata": {},
     "output_type": "execute_result"
    }
   ],
   "source": [
    "np.sqrt(np.sum((features_train[9] - features_test[0])**2))\n"
   ]
  },
  {
   "cell_type": "code",
   "execution_count": 90,
   "metadata": {},
   "outputs": [],
   "source": [
    "distances=[]\n",
    "for i in range(10):\n",
    "    distances.append(np.sqrt(np.sum((features_train[i] - features_test[0])**2))\n",
    ")\n"
   ]
  },
  {
   "cell_type": "code",
   "execution_count": 91,
   "metadata": {},
   "outputs": [
    {
     "data": {
      "text/plain": [
       "array([8, 3, 6, 7, 4, 9, 5, 0, 2, 1], dtype=int64)"
      ]
     },
     "execution_count": 91,
     "metadata": {},
     "output_type": "execute_result"
    }
   ],
   "source": [
    "index = np.argsort(np.array(distances))\n",
    "distances[index[0]]\n",
    "index\n"
   ]
  },
  {
   "cell_type": "code",
   "execution_count": 97,
   "metadata": {},
   "outputs": [],
   "source": [
    "diff =  features_train -features_test[0]"
   ]
  },
  {
   "cell_type": "code",
   "execution_count": 100,
   "metadata": {},
   "outputs": [
    {
     "data": {
      "text/plain": [
       "-0.09950545393080064"
      ]
     },
     "execution_count": 100,
     "metadata": {},
     "output_type": "execute_result"
    }
   ],
   "source": [
    "diff[-1].sum()"
   ]
  },
  {
   "cell_type": "code",
   "execution_count": 103,
   "metadata": {},
   "outputs": [
    {
     "data": {
      "text/plain": [
       "0.0033580271173498403"
      ]
     },
     "execution_count": 103,
     "metadata": {},
     "output_type": "execute_result"
    }
   ],
   "source": [
    "np.sum(diff**2, axis=1)[15]"
   ]
  },
  {
   "cell_type": "code",
   "execution_count": 104,
   "metadata": {},
   "outputs": [
    {
     "data": {
      "text/plain": [
       "0.0033580271173498403"
      ]
     },
     "execution_count": 104,
     "metadata": {},
     "output_type": "execute_result"
    }
   ],
   "source": [
    "np.sum(diff[15]**2)"
   ]
  },
  {
   "cell_type": "code",
   "execution_count": 107,
   "metadata": {},
   "outputs": [],
   "source": [
    "distances = np.sum(diff**2, axis=1) ** 0.5"
   ]
  },
  {
   "cell_type": "code",
   "execution_count": 108,
   "metadata": {},
   "outputs": [
    {
     "data": {
      "text/plain": [
       "0.023901797554511096"
      ]
     },
     "execution_count": 108,
     "metadata": {},
     "output_type": "execute_result"
    }
   ],
   "source": [
    "distances[100]"
   ]
  },
  {
   "cell_type": "code",
   "execution_count": 123,
   "metadata": {},
   "outputs": [],
   "source": [
    "def compute_distances(features_instances, features_query):\n",
    "    diff =  features_instances -features_query\n",
    "    distances = np.sqrt(np.sum(diff**2, axis=1))\n",
    "    return distances"
   ]
  },
  {
   "cell_type": "code",
   "execution_count": 369,
   "metadata": {},
   "outputs": [
    {
     "data": {
      "text/plain": [
       "1149"
      ]
     },
     "execution_count": 369,
     "metadata": {},
     "output_type": "execute_result"
    }
   ],
   "source": [
    "distances2 = compute_distances(features_train ,features_test[2]) \n",
    "index2 = np.argmin(np.array(distances2))\n",
    "#distances2[index2[0]]\n",
    "index2"
   ]
  },
  {
   "cell_type": "code",
   "execution_count": 370,
   "metadata": {},
   "outputs": [
    {
     "data": {
      "text/plain": [
       "249000.0"
      ]
     },
     "execution_count": 370,
     "metadata": {},
     "output_type": "execute_result"
    }
   ],
   "source": [
    "distances2.argsort()\n",
    "output_train[382]"
   ]
  },
  {
   "cell_type": "code",
   "execution_count": 333,
   "metadata": {},
   "outputs": [],
   "source": [
    "\n",
    "def k_nearest_neighbors(k, features_train, query_vector):\n",
    "    diff = features_train - query_vector\n",
    "    distances = np.sqrt(np.sum(diff**2, axis=1))\n",
    "    indices = distances.argsort()\n",
    "    return indices[0:k]\n",
    "def predicted_k_nearest_neighbors(k, features, output, query):\n",
    "    indices = k_nearest_neighbors(k, features, query)\n",
    "    prices = output[indices]\n",
    "    avg = np.average(prices)\n",
    "    return avg\n",
    "def predict_output(k, features, output, query):\n",
    "    predection = []\n",
    "    #query = query.reshape(-1,1)\n",
    "    for i in range(query.shape[0]):\n",
    "        indices = k_nearest_neighbors(k, features, query[i])\n",
    "        prices = output[indices]\n",
    "        predection.append(np.average(prices))\n",
    "    return predection"
   ]
  },
  {
   "cell_type": "code",
   "execution_count": 330,
   "metadata": {},
   "outputs": [
    {
     "name": "stdout",
     "output_type": "stream",
     "text": [
      "[0.02006157 0.06864228 0.02231441 0.01329609 0.01996616 0.01937183\n",
      " 0.00697015 0.02976025 0.01627503 0.02235702]\n"
     ]
    },
    {
     "data": {
      "text/plain": [
       "(18,)"
      ]
     },
     "execution_count": 330,
     "metadata": {},
     "output_type": "execute_result"
    }
   ],
   "source": [
    "d=compute_distances(features_train[0:10],features_test[2])\n",
    "print(d)\n",
    "np.argsort(d)[::-1]\n",
    "np.sort(d)[::-1]\n",
    "features_test[2].shape"
   ]
  },
  {
   "cell_type": "code",
   "execution_count": 372,
   "metadata": {},
   "outputs": [
    {
     "data": {
      "text/plain": [
       "array([1149, 3142, 4087, 2024], dtype=int64)"
      ]
     },
     "execution_count": 372,
     "metadata": {},
     "output_type": "execute_result"
    }
   ],
   "source": [
    "output_train[1149]\n",
    "predicted_k_nearest_neighbors(4,features_train,output_train,features_test[2])\n",
    "#predict_output(10,features_train,output_train,features_test[:10])\n",
    "k_nearest_neighbors(4,features_train,features_test[2])\n",
    "#np.mean(output_train[[1149, 3142, 4087, 2024]])\n"
   ]
  },
  {
   "cell_type": "code",
   "execution_count": 237,
   "metadata": {},
   "outputs": [],
   "source": [
    "        #dist = compute_distances(features_train[1] ,features_train[2])\n",
    "diff =  features_train[1] -features_train[2]\n",
    "dist = np.sqrt(np.sum(diff**2))"
   ]
  },
  {
   "cell_type": "code",
   "execution_count": 238,
   "metadata": {},
   "outputs": [
    {
     "data": {
      "text/plain": [
       "0.07060059908797389"
      ]
     },
     "execution_count": 238,
     "metadata": {},
     "output_type": "execute_result"
    }
   ],
   "source": [
    "dist"
   ]
  },
  {
   "cell_type": "code",
   "execution_count": 275,
   "metadata": {},
   "outputs": [
    {
     "data": {
      "text/plain": [
       "470862.5"
      ]
     },
     "execution_count": 275,
     "metadata": {},
     "output_type": "execute_result"
    }
   ],
   "source": [
    "1883450.0/4"
   ]
  },
  {
   "cell_type": "code",
   "execution_count": 342,
   "metadata": {},
   "outputs": [],
   "source": [
    "def computeRSS(y_true,y_pred):\n",
    "    return np.sum((y_true-y_pred)**2)"
   ]
  },
  {
   "cell_type": "code",
   "execution_count": 357,
   "metadata": {},
   "outputs": [],
   "source": [
    "k = np.arange(1,16)\n",
    "rss = []\n",
    "for i in range(1,16):\n",
    "    ouptput_pred = predict_output(i,features_train,output_train,features_valid)\n",
    "    rss.append(computeRSS(output_valid,ouptput_pred))"
   ]
  },
  {
   "cell_type": "code",
   "execution_count": 358,
   "metadata": {},
   "outputs": [
    {
     "data": {
      "text/plain": [
       "12855658480182.889"
      ]
     },
     "execution_count": 358,
     "metadata": {},
     "output_type": "execute_result"
    }
   ],
   "source": [
    "min(rss)"
   ]
  },
  {
   "cell_type": "code",
   "execution_count": 359,
   "metadata": {},
   "outputs": [
    {
     "data": {
      "text/plain": [
       "[17204161325646.0,\n",
       " 13384777837645.75,\n",
       " 12855658480182.889,\n",
       " 13023884476897.188,\n",
       " 13650723926462.918,\n",
       " 14610032702990.252,\n",
       " 14314185389596.164,\n",
       " 14483166750826.61,\n",
       " 14705658938667.062,\n",
       " 15081873913409.79,\n",
       " 15098381967074.0,\n",
       " 15797225714549.582,\n",
       " 16414473841793.51,\n",
       " 17075754766112.77,\n",
       " 17637717323868.32]"
      ]
     },
     "execution_count": 359,
     "metadata": {},
     "output_type": "execute_result"
    }
   ],
   "source": [
    "rss"
   ]
  },
  {
   "cell_type": "code",
   "execution_count": 360,
   "metadata": {},
   "outputs": [
    {
     "data": {
      "text/plain": [
       "39035062178637.125"
      ]
     },
     "execution_count": 360,
     "metadata": {},
     "output_type": "execute_result"
    }
   ],
   "source": [
    "ouptput_pred = predict_output(3,features_train,output_train,features_test)\n",
    "computeRSS(output_test,ouptput_pred)"
   ]
  },
  {
   "cell_type": "code",
   "execution_count": 351,
   "metadata": {},
   "outputs": [
    {
     "data": {
      "text/plain": [
       "3.9035062178637125"
      ]
     },
     "execution_count": 351,
     "metadata": {},
     "output_type": "execute_result"
    }
   ],
   "source": [
    "39035062178637.125"
   ]
  },
  {
   "cell_type": "code",
   "execution_count": null,
   "metadata": {},
   "outputs": [],
   "source": []
  }
 ],
 "metadata": {
  "kernelspec": {
   "display_name": "Python 3",
   "language": "python",
   "name": "python3"
  },
  "language_info": {
   "codemirror_mode": {
    "name": "ipython",
    "version": 3
   },
   "file_extension": ".py",
   "mimetype": "text/x-python",
   "name": "python",
   "nbconvert_exporter": "python",
   "pygments_lexer": "ipython3",
   "version": "3.7.3"
  }
 },
 "nbformat": 4,
 "nbformat_minor": 2
}
